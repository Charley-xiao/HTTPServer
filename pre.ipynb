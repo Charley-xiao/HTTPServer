{
 "cells": [
  {
   "cell_type": "code",
   "execution_count": 2,
   "metadata": {},
   "outputs": [
    {
     "name": "stdout",
     "output_type": "stream",
     "text": [
      "<Response [200]>\n",
      "#include<iostream>\n",
      "#include<cstring>\n",
      "using namespace std;\n",
      "const int size=4000100;\n",
      "int ver[size],head[size],nxt[size];\n",
      "bool vis[size];\n",
      "int n,m,tot=0,ix,iy;\n",
      "int a[2010][2010];\n",
      "int dx[]={-1,0,1,0};\n",
      "int dy[]={0,1,0,-1};\n",
      "bool fl=false;\n",
      "inline void add(int x,int y){\n",
      "\tver[++tot]=y;\n",
      "\tnxt[tot]=head[x];\n",
      "\thead[x]=tot;\n",
      "}\n",
      "inline int enc(int x,int y){\n",
      "\treturn (x-1)*m+y;\n",
      "}\n",
      "inline void addAdjBi(int x,int y,int xx_,int yy_){\n",
      "\tif(xx_<=0||xx_>=n+1||yy_<=0||yy_>=m+1) return;\n",
      "\tif(!a[xx_][yy_]) return;\n",
      "\tadd(enc(x,y),enc(xx_,yy_));\n",
      "\tadd(enc(xx_,yy_),enc(x,y));\n",
      "}\n",
      "void dfs(int x,int fa){\n",
      "\tvis[x]=true;\n",
      "\tfor(int i=head[x];i;i=nxt[i]){\n",
      "\t\tint y=ver[i];\n",
      "\t\tif(!vis[y]) dfs(y,x);\n",
      "\t\telse if(y!=fa){\n",
      "\t\t\tfl=true;\n",
      "\t\t\treturn;\n",
      "\t\t}\n",
      "\t}\n",
      "}\n",
      "int main(){\n",
      "\tios::sync_with_stdio(0);\n",
      "\twhile(1){\n",
      "\t\tcin>>n>>m;\n",
      "\t\tif(n==-1&&m==-1) return 0;\n",
      "\t\tmemset(ver,0,sizeof(ver));\n",
      "\t\tmemset(head,0,sizeof(head));\n",
      "\t\tmemset(nxt,0,sizeof(nxt));\n",
      "\t\tmemset(vis,false,sizeof(vis));\n",
      "\t\tmemset(a,0,sizeof(a));\n",
      "\t\tfl=false;\n",
      "\t\ttot=0;\n",
      "\t\tfor(int i=1;i<=n;i++){\n",
      "\t\t\tstring s;\n",
      "\t\t\tcin>>s;\n",
      "\t\t\tint l=s.length();\n",
      "\t\t\tfor(int j=0;j<l;j++){\n",
      "\t\t\t\tif(s[j]=='S'){\n",
      "\t\t\t\t\tix=i,iy=j+1;\n",
      "\t\t\t\t\ta[ix][iy]=1;\n",
      "\t\t\t\t}\n",
      "\t\t\t\telse if(s[j]=='.'){\n",
      "\t\t\t\t\ta[i][j+1]=1;\n",
      "\t\t\t\t}\n",
      "\t\t\t}\n",
      "\t\t}\n",
      "\t\tfor(int i=1;i<=n;i++) for(int j=1;j<=m;j++) if(a[i][j]) for(int k=0;k<4;k++) addAdjBi(i,j,i+dx[k],j+dy[k]);\n",
      "\t\tfor(int i=1;i<=n;i++) if(a[i][1]&&a[i][m]) addAdjBi(i,1,i,m);\n",
      "\t\tfor(int j=1;j<=m;j++) if(a[1][j]&&a[n][j]) addAdjBi(1,j,n,j);\n",
      "\t\tdfs(enc(ix,iy),-1);\n",
      "\t\tif(fl) cout<<\"Yes\\n\";\n",
      "\t\telse cout<<\"No\\n\";\n",
      "\t}\n",
      "\treturn 0;\n",
      "}\n",
      "\n"
     ]
    }
   ],
   "source": [
    "import requests\n",
    "\n",
    "url1='http://127.0.0.1:8080/admin/dfs.cpp'\n",
    "\n",
    "headers={\"Authorization\": \"Basic Y2xpZW50MToxMjM=\"}\n",
    "r=requests.get(url=url1, headers=headers)\n",
    "print(r)\n",
    "print(r.content.decode())"
   ]
  },
  {
   "cell_type": "code",
   "execution_count": null,
   "metadata": {},
   "outputs": [],
   "source": [
    "import requests\n",
    "\n"
   ]
  }
 ],
 "metadata": {
  "kernelspec": {
   "display_name": "pytorch",
   "language": "python",
   "name": "python3"
  },
  "language_info": {
   "codemirror_mode": {
    "name": "ipython",
    "version": 3
   },
   "file_extension": ".py",
   "mimetype": "text/x-python",
   "name": "python",
   "nbconvert_exporter": "python",
   "pygments_lexer": "ipython3",
   "version": "3.8.16"
  }
 },
 "nbformat": 4,
 "nbformat_minor": 2
}
